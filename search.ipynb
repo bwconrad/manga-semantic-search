{
 "cells": [
  {
   "cell_type": "code",
   "execution_count": null,
   "id": "9a7565f5-8acb-46c1-8cdd-bcdb784a7f1f",
   "metadata": {},
   "outputs": [],
   "source": [
    "from sentence_transformers import SentenceTransformer, util\n",
    "import pickle\n",
    "import pandas as pd"
   ]
  },
  {
   "cell_type": "code",
   "execution_count": null,
   "id": "d83f8587-d38d-4237-8961-4395ffbf7054",
   "metadata": {},
   "outputs": [],
   "source": [
    "embedder = SentenceTransformer('all-mpnet-base-v2')"
   ]
  },
  {
   "cell_type": "code",
   "execution_count": null,
   "id": "ce0fa2ba-610f-4017-b273-99892177e488",
   "metadata": {},
   "outputs": [],
   "source": [
    "embedder.max_seq_length"
   ]
  },
  {
   "cell_type": "code",
   "execution_count": null,
   "id": "02ee0bf6-b24b-4273-ac55-7296389e3fbf",
   "metadata": {
    "tags": []
   },
   "outputs": [],
   "source": [
    "data = pd.read_csv(\"data/cleaned-v2.csv\")\n",
    "descs = data.description.tolist()"
   ]
  },
  {
   "cell_type": "code",
   "execution_count": null,
   "id": "40b06867-f88b-4202-ab20-a4a4611dc7b3",
   "metadata": {},
   "outputs": [],
   "source": [
    "corpus_embeddings = embedder.encode(descs, show_progress_bar=True)"
   ]
  },
  {
   "cell_type": "code",
   "execution_count": null,
   "id": "0cc673c3-6dd8-49d2-bac5-2b0fcf0de47e",
   "metadata": {},
   "outputs": [],
   "source": [
    "with open('desc-embeddings.pkl', \"wb\") as fOut:\n",
    "    pickle.dump(corpus_embeddings, fOut)"
   ]
  },
  {
   "cell_type": "code",
   "execution_count": null,
   "id": "5e4d374f-ccd5-4752-9314-d4ee4f2f0c66",
   "metadata": {},
   "outputs": [],
   "source": [
    "prompt = \"the cat\"\n",
    "prompt_embedding = embedder.encode(prompt, convert_to_tensor=True)"
   ]
  },
  {
   "cell_type": "code",
   "execution_count": null,
   "id": "61cc38fc-288d-4e7c-ad60-bbf8ffbf1f06",
   "metadata": {},
   "outputs": [],
   "source": [
    "prompt_embedding.shape"
   ]
  },
  {
   "cell_type": "code",
   "execution_count": null,
   "id": "b4ac6beb-e34c-4008-844f-2a48bd87d872",
   "metadata": {},
   "outputs": [],
   "source": [
    "hits = util.semantic_search(prompt_embedding, corpus_embeddings, top_k=10)\n",
    "hits = pd.DataFrame(hits[0], columns=['corpus_id', 'score'])"
   ]
  },
  {
   "cell_type": "code",
   "execution_count": null,
   "id": "c4993ef0-854e-4677-a81b-bbed8d67ed33",
   "metadata": {},
   "outputs": [],
   "source": [
    "for idx,score in zip(hits.corpus_id.tolist(), hits.score.tolist()):\n",
    "    print(data.iloc[idx].romaji, score)"
   ]
  },
  {
   "cell_type": "code",
   "execution_count": null,
   "id": "f6a1b7cc-0e50-403a-b37c-925eb11d5185",
   "metadata": {},
   "outputs": [],
   "source": [
    "id = hits.corpus_id.tolist()[0]\n",
    "row = data.iloc[id]"
   ]
  },
  {
   "cell_type": "code",
   "execution_count": null,
   "id": "4bb2ffe2-4a95-4907-b70a-4ed7dd96218c",
   "metadata": {},
   "outputs": [],
   "source": [
    "row"
   ]
  },
  {
   "cell_type": "code",
   "execution_count": null,
   "id": "2837de39-82c3-420c-bcc4-7b269e758035",
   "metadata": {},
   "outputs": [],
   "source": [
    "row[\"cover\"]"
   ]
  },
  {
   "cell_type": "code",
   "execution_count": null,
   "id": "b9aebf2b-2c65-4f55-a2e7-a20a27569509",
   "metadata": {},
   "outputs": [],
   "source": [
    "from PIL import Image\n",
    "import requests\n",
    "from io import BytesIO\n",
    "\n",
    "response = requests.get(row[\"cover\"])\n",
    "img = Image.open(BytesIO(response.content))"
   ]
  },
  {
   "cell_type": "code",
   "execution_count": null,
   "id": "67d2d4eb-4bae-4bd6-a51f-230b8174864d",
   "metadata": {},
   "outputs": [],
   "source": [
    "img"
   ]
  },
  {
   "cell_type": "code",
   "execution_count": null,
   "id": "27ce5edc-9b27-40f1-90ce-83c0f253a49f",
   "metadata": {},
   "outputs": [],
   "source": [
    "import streamlit as st\n",
    "import streamlit.components.v1 as components\n",
    "\n",
    "components.html(\n",
    "    \"\"\"\n",
    "    <table boarder=\"1\" cellpadding=\"0\" cellspacing=\"0\" width=\"100%\">\n",
    "        <tr id=\"header\">\n",
    "            <td width=\"15%\">Rank</td>\n",
    "            <td width=\"55%\">Title</td>\n",
    "            <td width=\"15%\">Score</td>\n",
    "            <td width=\"15%\">Members</td>\n",
    "        </tr>\n",
    "    </table>\n",
    "        <tr class=\"entry\">\n",
    "            <td class=\"rank\">1</td>\n",
    "            <td class=\"title\">\n",
    "                <div class=\"titlecontents\">\n",
    "                    <div class=\"titleimage\">\n",
    "                        <img src=\"https://myanimelist.cdn-dena.com/r/167x242/images/anime/12/86676.webp?s=0b23d3d85a843719c4885a45a3ff9403\" />\n",
    "                    </div>\n",
    "                    <div class=\"titleinfo\">\n",
    "                        <a class = \"name\" href=\"https://myanimelist.net/anime/34902/Tsurezure_Children\">Tsurezure Children</a>\n",
    "                        <p class=\"season\">Summer 2017</p>\n",
    "                        <p class=\"type\">TV</p>\n",
    "                    </div>\n",
    "                </div>\n",
    "\n",
    "            </td>\n",
    "            <td class=\"score\">9.50</td>\n",
    "            <td class=\"members\">1000000</td>\n",
    "        </tr>\n",
    "    <table class=\"rankingTable\" boarder=\"0\" cellpadding=\"0\" cellspacing=\"0\" width=\"100%\">\n",
    "\n",
    "\n",
    "    </table>\n",
    "\n",
    "    \"\"\",\n",
    "    height=600,\n",
    ")\n",
    "st.show()"
   ]
  }
 ],
 "metadata": {
  "kernelspec": {
   "display_name": "Python 3 (ipykernel)",
   "language": "python",
   "name": "python3"
  },
  "language_info": {
   "codemirror_mode": {
    "name": "ipython",
    "version": 3
   },
   "file_extension": ".py",
   "mimetype": "text/x-python",
   "name": "python",
   "nbconvert_exporter": "python",
   "pygments_lexer": "ipython3",
   "version": "3.10.10"
  }
 },
 "nbformat": 4,
 "nbformat_minor": 5
}
